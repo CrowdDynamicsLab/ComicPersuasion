{
 "cells": [
  {
   "cell_type": "markdown",
   "metadata": {},
   "source": [
    "# Ordinal analysis of the Main MTurk Experiment (non-centered, ANOVA style)"
   ]
  },
  {
   "cell_type": "code",
   "execution_count": 39,
   "metadata": {
    "ExecuteTime": {
     "end_time": "2018-04-08T16:42:29.979397Z",
     "start_time": "2018-04-08T16:42:20.222431Z"
    }
   },
   "outputs": [],
   "source": [
    "# %load std_ipython_import.txt\n",
    "import pandas as pd\n",
    "import numpy as np\n",
    "import numpy.ma as ma\n",
    "import matplotlib.pyplot as plt\n",
    "import seaborn as sb\n",
    "import pymc3 as pm\n",
    "\n",
    "import theano.tensor as tt\n",
    "from theano.compile.ops import as_op\n",
    "\n",
    "from scipy.stats import norm\n",
    "from scipy.stats import t as studentT\n",
    "\n",
    "from matplotlib import gridspec\n",
    "from matplotlib.patches import Rectangle\n",
    "from matplotlib.ticker import MultipleLocator, FormatStrFormatter\n",
    "\n",
    "\n",
    "from IPython.display import Image\n",
    "\n",
    "%matplotlib inline\n",
    "plt.style.use('seaborn-white')\n",
    "\n",
    "\n",
    "from matplotlib import rcParams\n",
    "rcParams['font.family'] = 'sans-serif'\n",
    "rcParams['font.sans-serif'] = ['Gill Sans MT']\n"
   ]
  },
  {
   "cell_type": "code",
   "execution_count": 41,
   "metadata": {},
   "outputs": [],
   "source": [
    "line_color = np.array([138, 175, 197]) / 255.0"
   ]
  },
  {
   "cell_type": "code",
   "execution_count": 42,
   "metadata": {},
   "outputs": [
    {
     "data": {
      "text/plain": [
       "array([0.54117647, 0.68627451, 0.77254902])"
      ]
     },
     "execution_count": 42,
     "metadata": {},
     "output_type": "execute_result"
    }
   ],
   "source": [
    "line_color"
   ]
  },
  {
   "cell_type": "markdown",
   "metadata": {},
   "source": [
    "# Data"
   ]
  },
  {
   "cell_type": "code",
   "execution_count": 43,
   "metadata": {
    "ExecuteTime": {
     "end_time": "2018-04-08T16:42:40.688602Z",
     "start_time": "2018-04-08T16:42:40.662398Z"
    }
   },
   "outputs": [
    {
     "name": "stdout",
     "output_type": "stream",
     "text": [
      "<class 'pandas.core.frame.DataFrame'>\n",
      "RangeIndex: 655 entries, 0 to 654\n",
      "Data columns (total 6 columns):\n",
      "gesture      655 non-null int64\n",
      "distance     655 non-null int64\n",
      "shading      655 non-null int64\n",
      "y            655 non-null int64\n",
      "framing      655 non-null int64\n",
      "comicleft    655 non-null int64\n",
      "dtypes: int64(6)\n",
      "memory usage: 30.8 KB\n"
     ]
    }
   ],
   "source": [
    "# Using dtype 'category' for Y\n",
    "\n",
    "df = pd.read_csv(\n",
    "    'data/all_item_output_926.csv',\n",
    "    dtype={\n",
    "        'y': 'int',\n",
    "        'gesture': 'int',\n",
    "        'dist': 'int',\n",
    "        'shading': 'int',\n",
    "        'cond': 'int',\n",
    "        'comicleft': 'int'\n",
    "    })\n",
    "\n",
    "df.rename(columns={'dist':'distance', 'cond':'framing'}, inplace=True)\n",
    "df.info()"
   ]
  },
  {
   "cell_type": "code",
   "execution_count": 44,
   "metadata": {},
   "outputs": [
    {
     "data": {
      "image/png": "[encoded data removed]",
      "text/plain": [
       "<Figure size 403.2x576 with 4 Axes>"
      ]
     },
     "metadata": {},
     "output_type": "display_data"
    }
   ],
   "source": [
    "g_color = sb.factorplot(\n",
    "    x=\"y\",\n",
    "    row=\"comicleft\",\n",
    "    col=\"framing\",\n",
    "    data=df,\n",
    "    kind=\"count\",\n",
    "    size=4,\n",
    "    aspect=0.7)\n",
    "g_color.despine(left=True)\n",
    "g_color.savefig(\"main factor-responses across conditions.pdf\")"
   ]
  },
  {
   "cell_type": "code",
   "execution_count": 45,
   "metadata": {},
   "outputs": [],
   "source": [
    "# Calculate Gamma shape and rate from mode and sd.\n",
    "# if using gamma prior for the class dependent sigma\n",
    "\n",
    "def gammaShRaFromModeSD(mode, sd):\n",
    "    rate = (mode + np.sqrt( mode**2 + 4 * sd**2 ) ) / ( 2 * sd**2 )\n",
    "    shape = 1 + mode * rate\n",
    "    return(shape, rate)"
   ]
  },
  {
   "cell_type": "code",
   "execution_count": 46,
   "metadata": {},
   "outputs": [],
   "source": [
    "df['framing'] = df['framing'].astype('category')\n",
    "df['gesture'] = df['gesture'].astype('category')\n",
    "df['distance'] = df['distance'].astype('category')\n",
    "df['shading'] = df['shading'].astype('category')\n",
    "df['comicleft'] = df['comicleft'].astype('category')"
   ]
  },
  {
   "cell_type": "code",
   "execution_count": 47,
   "metadata": {},
   "outputs": [
    {
     "name": "stdout",
     "output_type": "stream",
     "text": [
      "thresh:\t[1.5, 2.5, 3.5, 4.5, 5.5, 6.5]\n",
      "thresh_obs:\t[1.5 -- -- -- -- 6.5]\n",
      "Overall Category Probabilities: y\n",
      "-3    0.031\n",
      "-2    0.137\n",
      "-1    0.162\n",
      " 0    0.139\n",
      " 1    0.223\n",
      " 2    0.197\n",
      " 3    0.111\n",
      "dtype: float64\n"
     ]
    }
   ],
   "source": [
    "# levels for the ordinal case\n",
    "\n",
    "y_cat = (df['y']).astype('category')  # in range 1-7 \n",
    "\n",
    "nYlevels = df.y.nunique()\n",
    "thresh = [k + 0.5\n",
    "           for k in range(1, nYlevels)]  # fixing the boundaries in our case\n",
    "thresh_obs = np.ma.asarray(thresh)\n",
    "thresh_obs[1:-1] = np.ma.masked\n",
    "\n",
    "print('thresh:\\t{}'.format(thresh))\n",
    "print('thresh_obs:\\t{}'.format(thresh_obs))\n",
    "\n",
    "#initial probabilities\n",
    "pr_test_val = df.groupby('y').size()/df.shape[0]\n",
    "print(\"Overall Category Probabilities: {}\".format(pr_test_val.round(3)))"
   ]
  },
  {
   "cell_type": "code",
   "execution_count": 48,
   "metadata": {},
   "outputs": [],
   "source": [
    "# defining the operator to compute the probabilities:\n",
    "@as_op(itypes=[tt.dvector, tt.dvector, tt.dscalar], otypes=[tt.dmatrix])\n",
    "def outcome_probabilities(theta, mu, sigma):\n",
    "    out = np.empty((mu.size, nYlevels))\n",
    "    n = norm(loc=mu, scale=sigma)\n",
    "    out[:, 0] = n.cdf(theta[0])\n",
    "    out[:, 1] = np.max(\n",
    "        [np.repeat(0, mu.size),\n",
    "         n.cdf(theta[1]) - n.cdf(theta[0])], axis=0)\n",
    "    out[:, 2] = np.max(\n",
    "        [np.repeat(0, mu.size),\n",
    "         n.cdf(theta[2]) - n.cdf(theta[1])], axis=0)\n",
    "    out[:, 3] = np.max(\n",
    "        [np.repeat(0, mu.size),\n",
    "         n.cdf(theta[3]) - n.cdf(theta[2])], axis=0)\n",
    "    out[:, 4] = np.max(\n",
    "        [np.repeat(0, mu.size),\n",
    "         n.cdf(theta[4]) - n.cdf(theta[3])], axis=0)\n",
    "    out[:, 5] = np.max(\n",
    "        [np.repeat(0, mu.size),\n",
    "         n.cdf(theta[5]) - n.cdf(theta[4])], axis=0)\n",
    "    out[:, 6] = 1 - n.cdf(theta[5])\n",
    "    return out"
   ]
  },
  {
   "cell_type": "code",
   "execution_count": 49,
   "metadata": {},
   "outputs": [
    {
     "name": "stdout",
     "output_type": "stream",
     "text": [
      "Response (y), Mean: 0.423, Sigma: 1.681\n",
      "gamma parameters: (1.2831955546343297, 0.3369544389891897)\n"
     ]
    }
   ],
   "source": [
    "y = df.y\n",
    "yMean = y.mean()\n",
    "ySD = y.std()\n",
    "print(\"Response (y), Mean: {}, Sigma: {}\".format(yMean.round(3), ySD.round(3)))\n",
    "\n",
    "# different nominal predictors\n",
    "\n",
    "\n",
    "\n",
    "# gesture\n",
    "\n",
    "x1 = df.gesture.cat.codes.values # array specifying index of 'gesture' conditions\n",
    "Nx1Lvl = len(df.gesture.cat.categories) # number of gestures\n",
    "\n",
    "\n",
    "# shading\n",
    "\n",
    "x2 = df.shading.cat.codes.values # array specifying index of 'shading' conditions\n",
    "Nx2Lvl = len(df.shading.cat.categories) # number of shades\n",
    "\n",
    "# distance\n",
    "\n",
    "x3 = df.distance.cat.codes.values # array specifying index of 'distance' conditions\n",
    "Nx3Lvl = len(df.distance.cat.categories) # number of distance\n",
    "\n",
    "# framing\n",
    "x4 = df.framing.cat.codes.values # array specifying index of 'framing' conditions\n",
    "Nx4Lvl = len(df.framing.cat.categories) # number of frames\n",
    "\n",
    "# # comicleft\n",
    "# x5 = df.comicleft.cat.codes.values # array specifying index of 'comicleft' conditions\n",
    "# Nx5Lvl = len(df.comicleft.cat.categories) # number of comicleft\n",
    "\n",
    "\n",
    "\n",
    "#setting the values of the gamma prior based on the standard deviation\n",
    "agammaShRa = gammaShRaFromModeSD(ySD/2 , 2*ySD)\n",
    "print(\"gamma parameters: {}\".format(agammaShRa))"
   ]
  },
  {
   "cell_type": "markdown",
   "metadata": {},
   "source": [
    "### No Interaction Effects"
   ]
  },
  {
   "cell_type": "code",
   "execution_count": 50,
   "metadata": {},
   "outputs": [],
   "source": [
    "with pm.Model() as ordinal_factor_model_main:\n",
    "\n",
    "    theta = pm.Normal(\n",
    "        'theta',\n",
    "        mu=thresh,\n",
    "        tau=np.repeat(1 / 2**2, len(thresh)),\n",
    "        shape=len(thresh),\n",
    "        observed=thresh_obs,\n",
    "        testval=thresh)\n",
    "\n",
    "    # intercept\n",
    "    a0_tilde = pm.Normal('a0_tilde', mu=0, sd=1)\n",
    "    a0 = pm.Deterministic('a0', yMean + (1+nYlevels)/2 + ySD * 5 * a0_tilde)\n",
    "\n",
    "    # gesture\n",
    "    a1SD = pm.Gamma('a1SD', agammaShRa[0], agammaShRa[1])\n",
    "    a1_tilde = pm.Normal('a1_tilde', mu=0, sd=1, shape=Nx1Lvl)\n",
    "    a1 = pm.Deterministic('a1', 0.0 + a1SD * a1_tilde)\n",
    "\n",
    "    # shading\n",
    "    a2SD = pm.Gamma('a2SD', agammaShRa[0], agammaShRa[1])\n",
    "    a2_tilde = pm.Normal('a2_tilde', mu=0, sd=1, shape=Nx2Lvl)\n",
    "    a2 = pm.Deterministic('a2', 0.0 + a2SD * a2_tilde)\n",
    "\n",
    "    # distance\n",
    "    a3SD = pm.Gamma('a3SD', agammaShRa[0], agammaShRa[1])\n",
    "    a3_tilde = pm.Normal('a3_tilde', mu=0, sd=1, shape=Nx3Lvl)\n",
    "    a3 = pm.Deterministic('a3', 0.0 + a3SD * a3_tilde)\n",
    "\n",
    "    # framing\n",
    "    a4SD = pm.Gamma('a4SD', agammaShRa[0], agammaShRa[1])\n",
    "    a4_tilde = pm.Normal('a4_tilde', mu=0, sd=1, shape=Nx4Lvl)\n",
    "    a4 = pm.Deterministic('a4', 0.0 + a4SD * a4_tilde)\n",
    "\n",
    "#     # comicleft\n",
    "#     a5SD = pm.Gamma('a5SD', agammaShRa[0], agammaShRa[1])\n",
    "#     a5_tilde = pm.Normal('a5_tilde', mu=0, sd=1, shape=Nx5Lvl)\n",
    "#     a5 = pm.Deterministic('a5', 0.0 + a5SD * a5_tilde)\n",
    "\n",
    "#     # gesture x shading\n",
    "#     a1a2SD = pm.Gamma('a1a2SD', agammaShRa[0], agammaShRa[1])\n",
    "#     a1a2_tilde = pm.Normal('a1a2_tilde', mu=0, sd=1, shape=(Nx1Lvl, Nx2Lvl))\n",
    "#     a1a2 = pm.Deterministic('a1a2', 0.0 + a1a2SD * a1a2_tilde)\n",
    "\n",
    "#     # gesture x distance\n",
    "#     a1a3SD = pm.Gamma('a1a3SD', agammaShRa[0], agammaShRa[1])\n",
    "#     a1a3_tilde = pm.Normal('a1a3_tilde', mu=0, sd=1, shape=(Nx1Lvl, Nx3Lvl))\n",
    "#     a1a3 = pm.Deterministic('a1a3', 0.0 + a1a3SD * a1a3_tilde)\n",
    "\n",
    "#     # distance x shading\n",
    "#     a2a3SD = pm.Gamma('a2a3SD', agammaShRa[0], agammaShRa[1])\n",
    "#     a2a3_tilde = pm.Normal('a2a3_tilde', mu=0, sd=1, shape=(Nx2Lvl, Nx3Lvl))\n",
    "#     a2a3 = pm.Deterministic('a2a3', 0.0 + a2a3SD * a2a3_tilde)\n",
    "\n",
    "    mu = a0 + a1[x1] + a2[x2] + a3[x3] + a4[x4]\n",
    "    ySigma = pm.Uniform('ySigma', ySD / 100, ySD * 10)\n",
    "\n",
    "    pr = outcome_probabilities(theta, mu, ySigma)\n",
    "    y = pm.Categorical(\n",
    "        'Y_obs', pr, observed=y_cat.cat.codes, testval=pr_test_val)"
   ]
  },
  {
   "cell_type": "code",
   "execution_count": 52,
   "metadata": {},
   "outputs": [
    {
     "name": "stderr",
     "output_type": "stream",
     "text": [
      "Multiprocess sampling (4 chains in 4 jobs)\n",
      "CompoundStep\n",
      ">Metropolis: [ySigma_interval__]\n",
      ">Metropolis: [a4_tilde]\n",
      ">Metropolis: [a4SD_log__]\n",
      ">Metropolis: [a3_tilde]\n",
      ">Metropolis: [a3SD_log__]\n",
      ">Metropolis: [a2_tilde]\n",
      ">Metropolis: [a2SD_log__]\n",
      ">Metropolis: [a1_tilde]\n",
      ">Metropolis: [a1SD_log__]\n",
      ">Metropolis: [a0_tilde]\n",
      ">Metropolis: [theta_missing]\n",
      "100%|██████████| 10500/10500 [09:40<00:00, 18.07it/s]\n",
      "The gelman-rubin statistic is larger than 1.05 for some parameters. This indicates slight problems during sampling.\n",
      "The estimated number of effective samples is smaller than 200 for some parameters.\n"
     ]
    }
   ],
   "source": [
    "with ordinal_factor_model_main:\n",
    "    step1 = pm.Metropolis()\n",
    "    trace = pm.sample(10000, step=step1)"
   ]
  },
  {
   "cell_type": "markdown",
   "metadata": {},
   "source": [
    "## diagnostics"
   ]
  },
  {
   "cell_type": "code",
   "execution_count": 54,
   "metadata": {},
   "outputs": [
    {
     "data": {
      "text/plain": [
       "{'theta_missing': array([1.00531718, 1.00397271, 1.00311228, 1.00246831]),\n",
       " 'a0_tilde': 1.1284878516142802,\n",
       " 'a1_tilde': array([1.01280598, 1.03272115, 1.04108322]),\n",
       " 'a2_tilde': array([1.01576997, 1.0076902 , 1.00451363]),\n",
       " 'a3_tilde': array([1.00062879, 1.00173097, 1.0041907 ]),\n",
       " 'a4_tilde': array([1.02921079, 1.04716442]),\n",
       " 'a0': 1.1284878516142804,\n",
       " 'a1SD': 1.0874234347270029,\n",
       " 'a1': array([1.07197837, 1.06581301, 1.07076702]),\n",
       " 'a2SD': 1.0092674912544746,\n",
       " 'a2': array([1.01190656, 1.01308004, 1.01214715]),\n",
       " 'a3SD': 1.0164537569119685,\n",
       " 'a3': array([1.02275552, 1.02200983, 1.01919182]),\n",
       " 'a4SD': 1.020314154193437,\n",
       " 'a4': array([1.12094566, 1.12216908]),\n",
       " 'ySigma': 1.0011883651289695}"
      ]
     },
     "execution_count": 54,
     "metadata": {},
     "output_type": "execute_result"
    }
   ],
   "source": [
    "pm.diagnostics.gelman_rubin(trace)"
   ]
  },
  {
   "cell_type": "code",
   "execution_count": 55,
   "metadata": {},
   "outputs": [],
   "source": [
    "# import pickle #\n",
    "\n",
    "# with open('ordinal_factor_model_main-noint.pkl', 'wb') as buff:\n",
    "#     pickle.dump({'model': ordinal_factor_model_main, 'trace': trace}, buff)\n",
    "\n",
    "# with open('my_model.pkl', 'rb') as buff:\n",
    "#     data = pickle.load(buff)  \n",
    "\n",
    "# basic_model, trace = data['model'], data['trace']"
   ]
  },
  {
   "cell_type": "code",
   "execution_count": 56,
   "metadata": {},
   "outputs": [],
   "source": [
    "# pm.traceplot(trace, varnames=['a0', 'a1', 'a1SD', 'a2', 'a2SD', 'a3', 'a3SD', 'a4', 'a4SD','ySigma'])"
   ]
  },
  {
   "cell_type": "code",
   "execution_count": 57,
   "metadata": {},
   "outputs": [
    {
     "name": "stdout",
     "output_type": "stream",
     "text": [
      "b0: 4.521\n",
      "b1: [-0.198  0.088  0.11 ]\n",
      "b2: [-0.219  0.1    0.119]\n",
      "b3: [-0.046 -0.054  0.1  ]\n",
      "b4: [ 0.052 -0.052]\n",
      "ySigma: 1.616\n"
     ]
    }
   ],
   "source": [
    "# Transforming the trace data to sum-to-zero values\n",
    "m = np.zeros((Nx1Lvl, Nx2Lvl, Nx3Lvl, Nx4Lvl,\n",
    "              len(trace[a0])))  # notice that this isn't len(trace)\n",
    "b1b2 = m.copy()\n",
    "\n",
    "for (j1, j2, j3, j4) in np.ndindex(Nx1Lvl, Nx2Lvl, Nx3Lvl, Nx4Lvl):\n",
    "    m[j1, j2, j3, j4] = (\n",
    "        trace['a0'] + trace['a1'][:, j1] + trace['a2'][:, j2] +\n",
    "        trace['a3'][:, j3] + trace['a4'][:, j4] \n",
    "#         + trace['a5'][:, j5]\n",
    "    )\n",
    "\n",
    "b0 = np.mean(m, axis=(0, 1, 2, 3))\n",
    "b1 = np.mean(m, axis=(1, 2, 3)) - b0\n",
    "b2 = np.mean(m, axis=(0, 2, 3)) - b0\n",
    "b3 = np.mean(m, axis=(0, 1, 3)) - b0\n",
    "b4 = np.mean(m, axis=(0, 1, 2)) - b0\n",
    "# b5 = np.mean(m, axis=(0, 1, 2, 3)) - b0\n",
    "\n",
    "# for (j1, j2) in np.ndindex(Nx1Lvl, Nx2Lvl):\n",
    "#     b1b2[j1, j2] = (m[j1, j2] - (b0 + b1[j1] + b2[j2]))\n",
    "\n",
    "# Below are the values corresponding to the first column of table 20.2\n",
    "print('b0: {}'.format(np.mean(b0).round(3)))\n",
    "print('b1: {}'.format(np.mean(b1, axis=1).round(3)))\n",
    "print('b2: {}'.format(np.mean(b2, axis=1).round(3)))\n",
    "print('b3: {}'.format(np.mean(b3, axis=1).round(3)))\n",
    "print('b4: {}'.format(np.mean(b4, axis=1).round(3)))\n",
    "# print('b5: {}'.format(np.mean(b5, axis=1).round(3)))\n",
    "print('ySigma: {}'.format(np.mean(trace['ySigma']).round(3)))"
   ]
  },
  {
   "cell_type": "code",
   "execution_count": 67,
   "metadata": {},
   "outputs": [
    {
     "data": {
      "image/png": "[encoded data removed]",
      "text/plain": [
       "<Figure size 576x144 with 4 Axes>"
      ]
     },
     "metadata": {},
     "output_type": "display_data"
    },
    {
     "data": {
      "image/png": "[encoded data removed]",
      "text/plain": [
       "<Figure size 432x144 with 2 Axes>"
      ]
     },
     "metadata": {},
     "output_type": "display_data"
    }
   ],
   "source": [
    "sigma = trace['ySigma']\n",
    "nm = (b0 - 4) / sigma  # effect size\n",
    "\n",
    "# plot theta posterior\n",
    "\n",
    "NRows = 1  # change based on the number of parameters\n",
    "NCols = 4  # four interior values\n",
    "sb.set_style(\"white\")\n",
    "fig3, axs3 = sb.mpl.pyplot.subplots(NRows,\n",
    "                                    NCols)  #### change on changing parameters\n",
    "fig3.set_size_inches(NCols * 2, 2)\n",
    "\n",
    "# Plot posteriors\n",
    "pm.plot_posterior(\n",
    "    trace['theta_missing'][:, 0],\n",
    "    point_estimate='mode',\n",
    "    kde_plot='True',\n",
    "    round_to=2,\n",
    "#     color='0.75',\n",
    "    ax=axs3[0],\n",
    "    text_size=10)\n",
    "pm.plot_posterior(\n",
    "    trace['theta_missing'][:, 1],\n",
    "    point_estimate='mode',\n",
    "    kde_plot='True',\n",
    "    round_to=2,\n",
    "#     color='0.75',\n",
    "    ax=axs3[1],\n",
    "    text_size=10)\n",
    "pm.plot_posterior(\n",
    "    trace['theta_missing'][:, 2],\n",
    "    point_estimate='mode',\n",
    "    kde_plot='True',\n",
    "#     color='0.75',\n",
    "    round_to=2,\n",
    "    ax=axs3[2],\n",
    "    text_size=10)\n",
    "pm.plot_posterior(\n",
    "    trace['theta_missing'][:, 3],\n",
    "    point_estimate='mode',\n",
    "    kde_plot='True',\n",
    "#     color='0.75',\n",
    "    ax=axs3[3],\n",
    "    round_to=2,\n",
    "    text_size=10)\n",
    "\n",
    "# beta_vars = ['intercept', 'color', 'location', 'condition']\n",
    "for j in range(NCols):\n",
    "    z = axs3[j]\n",
    "    #     z.set_xlabel(\"\") # no individual labels\n",
    "    #     z.set_ylabel(\"\")\n",
    "    s = \"$\\\\theta_{{{0}}}$\".format(j + 2)\n",
    "    z.set_xlabel(\"{0}\".format(s))\n",
    "    center = trace['theta_missing'][:, j].mean()\n",
    "    z.set_xlim([center - 1.5, center + 1.5])\n",
    "\n",
    "    z.xaxis.set_major_formatter(FormatStrFormatter('%.2f'))\n",
    "    z.yaxis.set_major_formatter(FormatStrFormatter('%.2f'))\n",
    "    z.tick_params(direction='in', length=6, width=2, colors='k', which='major')\n",
    "    z.tick_params(direction='in', length=4, width=1, colors='k', which='minor')\n",
    "    z.xaxis.set_ticks_position('bottom')\n",
    "    z.yaxis.set_ticks_position('left')\n",
    "    z.minorticks_on()\n",
    "\n",
    "fig3.tight_layout()\n",
    "\n",
    "fig3.savefig(\"factors_theta_values_main-noint.pdf\")\n",
    "\n",
    "# mean and mean effect size\n",
    "\n",
    "fig2, axs2 = sb.mpl.pyplot.subplots(1, 2)  #### change on changing parameters\n",
    "fig2.set_size_inches(6, 2)\n",
    "\n",
    "pm.plot_posterior(\n",
    "    b0,\n",
    "    point_estimate='mode',\n",
    "    kde_plot='True',\n",
    "#     color='0.75',\n",
    "    ax=axs2[0],\n",
    "    ref_val=4,\n",
    "    round_to=2,\n",
    "    text_size=10)\n",
    "pm.plot_posterior(\n",
    "    nm,\n",
    "    point_estimate='mode',\n",
    "    kde_plot='True',\n",
    "#     color='0.75',\n",
    "    ax=axs2[1],\n",
    "    ref_val=0,\n",
    "    round_to=2,\n",
    "    text_size=10)\n",
    "\n",
    "axs2[0].set_title(r\"Mean\")\n",
    "b0m = np.mean(b0)\n",
    "axs2[0].set_xlim([b0m - 1.5, b0m + 1.5])\n",
    "axs2[0].set_xlabel(r'$\\mu$')\n",
    "\n",
    "axs2[1].set_title(r\"Effect Size\")\n",
    "nmm = np.mean(nm)\n",
    "axs2[1].set_xlim([nmm - 1.5, nmm + 1.5])\n",
    "axs2[1].set_xlabel(r'$\\frac{\\mu-4}{\\sigma}$')\n",
    "\n",
    "axs2[0].xaxis.set_major_formatter(FormatStrFormatter('%.2f'))\n",
    "axs2[0].yaxis.set_major_formatter(FormatStrFormatter('%.2f'))\n",
    "axs2[0].tick_params(\n",
    "    direction='in', length=6, width=2, colors='k', which='major')\n",
    "axs2[0].tick_params(\n",
    "    direction='in', length=4, width=1, colors='k', which='minor')\n",
    "axs2[0].xaxis.set_ticks_position('bottom')\n",
    "axs2[0].yaxis.set_ticks_position('left')\n",
    "axs2[0].minorticks_on()\n",
    "\n",
    "axs2[1].xaxis.set_major_formatter(FormatStrFormatter('%.2f'))\n",
    "axs2[1].yaxis.set_major_formatter(FormatStrFormatter('%.2f'))\n",
    "axs2[1].tick_params(\n",
    "    direction='in', length=6, width=2, colors='k', which='major')\n",
    "axs2[1].tick_params(\n",
    "    direction='in', length=4, width=1, colors='k', which='minor')\n",
    "axs2[1].xaxis.set_ticks_position('bottom')\n",
    "axs2[1].yaxis.set_ticks_position('left')\n",
    "axs2[1].minorticks_on()\n",
    "\n",
    "fig2.tight_layout()\n",
    "#fig2.savefig(\"factors_mean_effect_main-noint.pdf\")"
   ]
  },
  {
   "cell_type": "code",
   "execution_count": 15,
   "metadata": {},
   "outputs": [
    {
     "data": {
      "image/png": "[encoded data removed]",
      "text/plain": [
       "<Figure size 216x144 with 1 Axes>"
      ]
     },
     "metadata": {},
     "output_type": "display_data"
    }
   ],
   "source": [
    "#framing contrast\n",
    "contrast = b4[0, :] - b4[1, :]\n",
    "\n",
    "fig, axs = sb.mpl.pyplot.subplots(1, 1)  #### change on changing parameters\n",
    "fig.set_size_inches(3, 2)\n",
    "\n",
    "pm.plot_posterior(\n",
    "    contrast,\n",
    "    point_estimate='mode',\n",
    "    kde_plot='True',\n",
    "    color='0.75',\n",
    "    round_to=2,\n",
    "    ax=axs,\n",
    "    ref_val=0,\n",
    "    text_size=10)\n",
    "\n",
    "axs.set_title(r\"Negative - Positive Framing\")\n",
    "cm = np.mean(contrast)\n",
    "axs.set_xlim([cm - 1.5, cm + 1.5])\n",
    "axs.set_xlabel(r'$\\beta_{4,0} - \\beta_{4,1}$')\n",
    "\n",
    "axs.xaxis.set_major_formatter(FormatStrFormatter('%.2f'))\n",
    "axs.yaxis.set_major_formatter(FormatStrFormatter('%.2f'))\n",
    "axs.tick_params(direction='in', length=6, width=2, colors='k', which='major')\n",
    "axs.tick_params(direction='in', length=4, width=1, colors='k', which='minor')\n",
    "axs.xaxis.set_ticks_position('bottom')\n",
    "axs.yaxis.set_ticks_position('left')\n",
    "axs.minorticks_on()\n",
    "fig.tight_layout()\n",
    "fig.savefig(\"factors_framing_contrasts_main-noint.pdf\")"
   ]
  },
  {
   "cell_type": "code",
   "execution_count": 16,
   "metadata": {},
   "outputs": [],
   "source": [
    "# # comic position contrast\n",
    "# contrast = b5[1, :] - b5[0, :]\n",
    "\n",
    "# fig, axs = sb.mpl.pyplot.subplots(1, 1)  #### change on changing parameters\n",
    "# fig.set_size_inches(3, 2)\n",
    "\n",
    "# pm.plot_posterior(\n",
    "#     contrast,\n",
    "#     point_estimate='mode',\n",
    "#     kde_plot='True',\n",
    "#     color='0.75',\n",
    "#     round_to=2,\n",
    "#     ax=axs,\n",
    "#     ref_val=0,\n",
    "#     text_size=10)\n",
    "\n",
    "# axs.set_title(r\"Comic Position: Right - Left\")\n",
    "# cm = np.mean(contrast)\n",
    "# axs.set_xlim([cm - 1.5, cm + 1.5])\n",
    "# axs.set_xlabel(r'$\\beta_{5,0} - \\beta_{5,1}$')\n",
    "\n",
    "# axs.xaxis.set_major_formatter(FormatStrFormatter('%.2f'))\n",
    "# axs.yaxis.set_major_formatter(FormatStrFormatter('%.2f'))\n",
    "# axs.tick_params(direction='in', length=6, width=2, colors='k', which='major')\n",
    "# axs.tick_params(direction='in', length=4, width=1, colors='k', which='minor')\n",
    "# axs.xaxis.set_ticks_position('bottom')\n",
    "# axs.yaxis.set_ticks_position('left')\n",
    "# axs.minorticks_on()\n",
    "# fig.tight_layout()\n",
    "# fig.savefig(\"factors_comicposition_contrasts_main-noint.pdf\")"
   ]
  },
  {
   "cell_type": "code",
   "execution_count": 17,
   "metadata": {},
   "outputs": [
    {
     "data": {
      "image/png": "[encoded data removed]",
      "text/plain": [
       "<Figure size 648x144 with 3 Axes>"
      ]
     },
     "metadata": {},
     "output_type": "display_data"
    }
   ],
   "source": [
    "# gesture contrast\n",
    "contrast20 = b1[2, :] - b1[0, :]\n",
    "contrast10 = b1[1, :] - b1[0, :]\n",
    "contrast21 = b1[2, :] - b1[1, :]\n",
    "\n",
    "\n",
    "\n",
    "fig, axs = sb.mpl.pyplot.subplots(1, 3)  #### change on changing parameters\n",
    "fig.set_size_inches(9, 2)\n",
    "\n",
    "pm.plot_posterior(\n",
    "    contrast10,\n",
    "    point_estimate='mode',\n",
    "    kde_plot='True',\n",
    "    color='0.75',\n",
    "    round_to=2,\n",
    "    ax=axs[0],\n",
    "    ref_val=0,\n",
    "    text_size=10)\n",
    "\n",
    "\n",
    "pm.plot_posterior(\n",
    "    contrast20,\n",
    "    point_estimate='mode',\n",
    "    kde_plot='True',\n",
    "    color='0.75',\n",
    "    round_to=2,\n",
    "    ax=axs[1],\n",
    "    ref_val=0,\n",
    "    text_size=10)\n",
    "\n",
    "pm.plot_posterior(\n",
    "    contrast21,\n",
    "    point_estimate='mode',\n",
    "    kde_plot='True',\n",
    "    color='0.75',\n",
    "    round_to=2,\n",
    "    ax=axs[2],\n",
    "    ref_val=0,\n",
    "    text_size=10)\n",
    "\n",
    "\n",
    "\n",
    "axs[0].set_title(r\"Medium Gesture - Neutral\")\n",
    "cm = np.mean(contrast10)\n",
    "axs[0].set_xlim([cm - 1.5, cm + 1.5])\n",
    "axs[0].set_xlabel(r'$\\beta_{1,1} - \\beta_{1,0}$')\n",
    "\n",
    "axs[0].xaxis.set_major_formatter(FormatStrFormatter('%.2f'))\n",
    "axs[0].yaxis.set_major_formatter(FormatStrFormatter('%.2f'))\n",
    "axs[0].tick_params(direction='in', length=6, width=2, colors='k', which='major')\n",
    "axs[0].tick_params(direction='in', length=4, width=1, colors='k', which='minor')\n",
    "axs[0].xaxis.set_ticks_position('bottom')\n",
    "axs[0].yaxis.set_ticks_position('left')\n",
    "axs[0].minorticks_on()\n",
    "\n",
    "axs[1].set_title(r\"Extreme Gesture - Neutral\")\n",
    "cm = np.mean(contrast20)\n",
    "axs[1].set_xlim([cm - 1.5, cm + 1.5])\n",
    "axs[1].set_xlabel(r'$\\beta_{1,2} - \\beta_{1,0}$')\n",
    "\n",
    "axs[1].xaxis.set_major_formatter(FormatStrFormatter('%.2f'))\n",
    "axs[1].yaxis.set_major_formatter(FormatStrFormatter('%.2f'))\n",
    "axs[1].tick_params(direction='in', length=6, width=2, colors='k', which='major')\n",
    "axs[1].tick_params(direction='in', length=4, width=1, colors='k', which='minor')\n",
    "axs[1].xaxis.set_ticks_position('bottom')\n",
    "axs[1].yaxis.set_ticks_position('left')\n",
    "axs[1].minorticks_on()\n",
    "\n",
    "axs[2].set_title(r\"Extreme - Medium\")\n",
    "cm = np.mean(contrast21)\n",
    "axs[2].set_xlim([cm - 1.5, cm + 1.5])\n",
    "axs[2].set_xlabel(r'$\\beta_{1,2} - \\beta_{1,1}$')\n",
    "\n",
    "axs[2].xaxis.set_major_formatter(FormatStrFormatter('%.2f'))\n",
    "axs[2].yaxis.set_major_formatter(FormatStrFormatter('%.2f'))\n",
    "axs[2].tick_params(direction='in', length=6, width=2, colors='k', which='major')\n",
    "axs[2].tick_params(direction='in', length=4, width=1, colors='k', which='minor')\n",
    "axs[2].xaxis.set_ticks_position('bottom')\n",
    "axs[2].yaxis.set_ticks_position('left')\n",
    "axs[2].minorticks_on()\n",
    "\n",
    "\n",
    "\n",
    "\n",
    "\n",
    "fig.tight_layout()\n",
    "fig.savefig(\"factors_gesture_contrasts_main-noint.pdf\")"
   ]
  },
  {
   "cell_type": "code",
   "execution_count": 18,
   "metadata": {},
   "outputs": [
    {
     "data": {
      "image/png": "[encoded data removed]",
      "text/plain": [
       "<Figure size 648x144 with 3 Axes>"
      ]
     },
     "metadata": {},
     "output_type": "display_data"
    }
   ],
   "source": [
    "# shading contrast\n",
    "contrast20 = b2[2, :] - b2[0, :]\n",
    "contrast10 = b2[1, :] - b2[0, :]\n",
    "contrast21 = b2[2, :] - b2[1, :]\n",
    "\n",
    "fig, axs = sb.mpl.pyplot.subplots(1, 3)  #### change on changing parameters\n",
    "fig.set_size_inches(9, 2)\n",
    "\n",
    "pm.plot_posterior(\n",
    "    contrast10,\n",
    "    point_estimate='mode',\n",
    "    kde_plot='True',\n",
    "    color='0.75',\n",
    "    round_to=2,\n",
    "    ax=axs[0],\n",
    "    ref_val=0,\n",
    "    text_size=10)\n",
    "\n",
    "\n",
    "pm.plot_posterior(\n",
    "    contrast20,\n",
    "    point_estimate='mode',\n",
    "    kde_plot='True',\n",
    "    color='0.75',\n",
    "    round_to=2,\n",
    "    ax=axs[1],\n",
    "    ref_val=0,\n",
    "    text_size=10)\n",
    "\n",
    "pm.plot_posterior(\n",
    "    contrast21,\n",
    "    point_estimate='mode',\n",
    "    kde_plot='True',\n",
    "    color='0.75',\n",
    "    round_to=2,\n",
    "    ax=axs[2],\n",
    "    ref_val=0,\n",
    "    text_size=10)\n",
    "\n",
    "\n",
    "\n",
    "axs[0].set_title(r\"Light Gray - White\")\n",
    "cm = np.mean(contrast10)\n",
    "axs[0].set_xlim([cm - 1.5, cm + 1.5])\n",
    "axs[0].set_xlabel(r'$\\beta_{2,1} - \\beta_{2,0}$')\n",
    "\n",
    "axs[0].xaxis.set_major_formatter(FormatStrFormatter('%.2f'))\n",
    "axs[0].yaxis.set_major_formatter(FormatStrFormatter('%.2f'))\n",
    "axs[0].tick_params(direction='in', length=6, width=2, colors='k', which='major')\n",
    "axs[0].tick_params(direction='in', length=4, width=1, colors='k', which='minor')\n",
    "axs[0].xaxis.set_ticks_position('bottom')\n",
    "axs[0].yaxis.set_ticks_position('left')\n",
    "axs[0].minorticks_on()\n",
    "\n",
    "axs[1].set_title(r\"Gray - White\")\n",
    "cm = np.mean(contrast20)\n",
    "axs[1].set_xlim([cm - 1.5, cm + 1.5])\n",
    "axs[1].set_xlabel(r'$\\beta_{2,2} - \\beta_{2,0}$')\n",
    "\n",
    "axs[1].xaxis.set_major_formatter(FormatStrFormatter('%.2f'))\n",
    "axs[1].yaxis.set_major_formatter(FormatStrFormatter('%.2f'))\n",
    "axs[1].tick_params(direction='in', length=6, width=2, colors='k', which='major')\n",
    "axs[1].tick_params(direction='in', length=4, width=1, colors='k', which='minor')\n",
    "axs[1].xaxis.set_ticks_position('bottom')\n",
    "axs[1].yaxis.set_ticks_position('left')\n",
    "axs[1].minorticks_on()\n",
    "\n",
    "axs[2].set_title(r\"Gray - Light Gray\")\n",
    "cm = np.mean(contrast21)\n",
    "axs[2].set_xlim([cm - 1.5, cm + 1.5])\n",
    "axs[2].set_xlabel(r'$\\beta_{2,2} - \\beta_{2,1}$')\n",
    "\n",
    "axs[2].xaxis.set_major_formatter(FormatStrFormatter('%.2f'))\n",
    "axs[2].yaxis.set_major_formatter(FormatStrFormatter('%.2f'))\n",
    "axs[2].tick_params(direction='in', length=6, width=2, colors='k', which='major')\n",
    "axs[2].tick_params(direction='in', length=4, width=1, colors='k', which='minor')\n",
    "axs[2].xaxis.set_ticks_position('bottom')\n",
    "axs[2].yaxis.set_ticks_position('left')\n",
    "axs[2].minorticks_on()\n",
    "\n",
    "\n",
    "\n",
    "\n",
    "fig.tight_layout()\n",
    "fig.savefig(\"factors_shading_contrasts_main-noint.pdf\")"
   ]
  },
  {
   "cell_type": "code",
   "execution_count": 19,
   "metadata": {},
   "outputs": [
    {
     "data": {
      "image/png": "[encoded data removed]",
      "text/plain": [
       "<Figure size 648x144 with 3 Axes>"
      ]
     },
     "metadata": {},
     "output_type": "display_data"
    }
   ],
   "source": [
    "# distance contrast\n",
    "contrast20 = b3[2, :] - b3[0, :]\n",
    "contrast10 = b3[1, :] - b3[0, :]\n",
    "contrast21 = b3[2, :] - b3[1, :]\n",
    "\n",
    "fig, axs = sb.mpl.pyplot.subplots(1, 3)  #### change on changing parameters\n",
    "fig.set_size_inches(9, 2)\n",
    "\n",
    "pm.plot_posterior(\n",
    "    contrast10,\n",
    "    point_estimate='mode',\n",
    "    kde_plot='True',\n",
    "    color='0.75',\n",
    "    round_to=2,\n",
    "    ax=axs[0],\n",
    "    ref_val=0,\n",
    "    text_size=10)\n",
    "\n",
    "\n",
    "pm.plot_posterior(\n",
    "    contrast20,\n",
    "    point_estimate='mode',\n",
    "    kde_plot='True',\n",
    "    color='0.75',\n",
    "    round_to=2,\n",
    "    ax=axs[1],\n",
    "    ref_val=0,\n",
    "    text_size=10)\n",
    "\n",
    "pm.plot_posterior(\n",
    "    contrast21,\n",
    "    point_estimate='mode',\n",
    "    kde_plot='True',\n",
    "    color='0.75',\n",
    "    round_to=2,\n",
    "    ax=axs[2],\n",
    "    ref_val=0,\n",
    "    text_size=10)\n",
    "\n",
    "\n",
    "axs[0].set_title(r\"Medium Distance  - Closest\")\n",
    "cm = np.mean(contrast10)\n",
    "axs[0].set_xlim([cm - 1.5, cm + 1.5])\n",
    "axs[0].set_xlabel(r'$\\beta_{3,1} - \\beta_{3,0}$')\n",
    "\n",
    "axs[0].xaxis.set_major_formatter(FormatStrFormatter('%.2f'))\n",
    "axs[0].yaxis.set_major_formatter(FormatStrFormatter('%.2f'))\n",
    "axs[0].tick_params(direction='in', length=6, width=2, colors='k', which='major')\n",
    "axs[0].tick_params(direction='in', length=4, width=1, colors='k', which='minor')\n",
    "axs[0].xaxis.set_ticks_position('bottom')\n",
    "axs[0].yaxis.set_ticks_position('left')\n",
    "axs[0].minorticks_on()\n",
    "\n",
    "axs[1].set_title(r\"Farthest - Closest\")\n",
    "cm = np.mean(contrast20)\n",
    "axs[1].set_xlim([cm - 1.5, cm + 1.5])\n",
    "axs[1].set_xlabel(r'$\\beta_{3,2} - \\beta_{3,0}$')\n",
    "\n",
    "axs[1].xaxis.set_major_formatter(FormatStrFormatter('%.2f'))\n",
    "axs[1].yaxis.set_major_formatter(FormatStrFormatter('%.2f'))\n",
    "axs[1].tick_params(direction='in', length=6, width=2, colors='k', which='major')\n",
    "axs[1].tick_params(direction='in', length=4, width=1, colors='k', which='minor')\n",
    "axs[1].xaxis.set_ticks_position('bottom')\n",
    "axs[1].yaxis.set_ticks_position('left')\n",
    "axs[1].minorticks_on()\n",
    "\n",
    "axs[2].set_title(r\"Farthest - Medium\")\n",
    "cm = np.mean(contrast21)\n",
    "axs[2].set_xlim([cm - 1.5, cm + 1.5])\n",
    "axs[2].set_xlabel(r'$\\beta_{3,2} - \\beta_{3,1}$')\n",
    "\n",
    "axs[2].xaxis.set_major_formatter(FormatStrFormatter('%.2f'))\n",
    "axs[2].yaxis.set_major_formatter(FormatStrFormatter('%.2f'))\n",
    "axs[2].tick_params(direction='in', length=6, width=2, colors='k', which='major')\n",
    "axs[2].tick_params(direction='in', length=4, width=1, colors='k', which='minor')\n",
    "axs[2].xaxis.set_ticks_position('bottom')\n",
    "axs[2].yaxis.set_ticks_position('left')\n",
    "axs[2].minorticks_on()\n",
    "\n",
    "\n",
    "fig.tight_layout()\n",
    "fig.savefig(\"factors_distance_contrasts_main-noint.pdf\")"
   ]
  },
  {
   "cell_type": "code",
   "execution_count": null,
   "metadata": {},
   "outputs": [],
   "source": []
  }
 ],
 "metadata": {
  "anaconda-cloud": {},
  "kernelspec": {
   "display_name": "Python 3",
   "language": "python",
   "name": "python3"
  },
  "language_info": {
   "codemirror_mode": {
    "name": "ipython",
    "version": 3
   },
   "file_extension": ".py",
   "mimetype": "text/x-python",
   "name": "python",
   "nbconvert_exporter": "python",
   "pygments_lexer": "ipython3",
   "version": "3.6.4"
  },
  "latex_envs": {
   "LaTeX_envs_menu_present": true,
   "bibliofile": "biblio.bib",
   "cite_by": "apalike",
   "current_citInitial": 1,
   "eqLabelWithNumbers": true,
   "eqNumInitial": 1,
   "hotkeys": {
    "equation": "Ctrl-E",
    "itemize": "Ctrl-I"
   },
   "labels_anchors": false,
   "latex_user_defs": false,
   "report_style_numbering": false,
   "user_envs_cfg": false
  }
 },
 "nbformat": 4,
 "nbformat_minor": 1
}
